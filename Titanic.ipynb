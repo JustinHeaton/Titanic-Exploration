{
 "cells": [
  {
   "cell_type": "markdown",
   "metadata": {},
   "source": [
    "Exploring the Titanic Dataset\n",
    "=============================\n",
    "Background\n",
    "-----------\n",
    "The RMS Titanic was a brittish passenger ship which sank in the North Atlantic Ocean after colliding with an iceberg in 1912, it was making its maiden voyage from Southampton to New York City. Although there were over 2,000 crew and passengers on the ship, which included some of the wealthiest people in the world at the time, the Titanic only carried enough life boats to save about 1,178 people, so sadly, many passengers did not survive.\n",
    "\n",
    "*More Information:* https://en.wikipedia.org/wiki/RMS_Titanic\n",
    "\n",
    "In this project I am going to be investigating a dataset with information about the passengers of the Titanic. I will be asking questions about who the passengers were, like how old they were, who were they travelling with and what factors contributed to whether or not a passenger survived.\n",
    "\n",
    "The first step in my analysis is to load in the data set, check how many entries it has, and see if there are any missing values."
   ]
  },
  {
   "cell_type": "code",
   "execution_count": 176,
   "metadata": {
    "collapsed": false,
    "scrolled": true
   },
   "outputs": [
    {
     "name": "stdout",
     "output_type": "stream",
     "text": [
      "The number of passengers in the data set is 891.\n",
      "The number of features for each passenger is 12.\n"
     ]
    },
    {
     "data": {
      "text/html": [
       "<div>\n",
       "<table border=\"1\" class=\"dataframe\">\n",
       "  <thead>\n",
       "    <tr style=\"text-align: right;\">\n",
       "      <th></th>\n",
       "      <th>PassengerId</th>\n",
       "      <th>Survived</th>\n",
       "      <th>Pclass</th>\n",
       "      <th>Name</th>\n",
       "      <th>Sex</th>\n",
       "      <th>Age</th>\n",
       "      <th>SibSp</th>\n",
       "      <th>Parch</th>\n",
       "      <th>Ticket</th>\n",
       "      <th>Fare</th>\n",
       "      <th>Cabin</th>\n",
       "      <th>Embarked</th>\n",
       "    </tr>\n",
       "  </thead>\n",
       "  <tbody>\n",
       "    <tr>\n",
       "      <th>0</th>\n",
       "      <td>1</td>\n",
       "      <td>0</td>\n",
       "      <td>3</td>\n",
       "      <td>Braund, Mr. Owen Harris</td>\n",
       "      <td>male</td>\n",
       "      <td>22</td>\n",
       "      <td>1</td>\n",
       "      <td>0</td>\n",
       "      <td>A/5 21171</td>\n",
       "      <td>7.2500</td>\n",
       "      <td>NaN</td>\n",
       "      <td>S</td>\n",
       "    </tr>\n",
       "    <tr>\n",
       "      <th>1</th>\n",
       "      <td>2</td>\n",
       "      <td>1</td>\n",
       "      <td>1</td>\n",
       "      <td>Cumings, Mrs. John Bradley (Florence Briggs Th...</td>\n",
       "      <td>female</td>\n",
       "      <td>38</td>\n",
       "      <td>1</td>\n",
       "      <td>0</td>\n",
       "      <td>PC 17599</td>\n",
       "      <td>71.2833</td>\n",
       "      <td>C85</td>\n",
       "      <td>C</td>\n",
       "    </tr>\n",
       "    <tr>\n",
       "      <th>2</th>\n",
       "      <td>3</td>\n",
       "      <td>1</td>\n",
       "      <td>3</td>\n",
       "      <td>Heikkinen, Miss. Laina</td>\n",
       "      <td>female</td>\n",
       "      <td>26</td>\n",
       "      <td>0</td>\n",
       "      <td>0</td>\n",
       "      <td>STON/O2. 3101282</td>\n",
       "      <td>7.9250</td>\n",
       "      <td>NaN</td>\n",
       "      <td>S</td>\n",
       "    </tr>\n",
       "    <tr>\n",
       "      <th>3</th>\n",
       "      <td>4</td>\n",
       "      <td>1</td>\n",
       "      <td>1</td>\n",
       "      <td>Futrelle, Mrs. Jacques Heath (Lily May Peel)</td>\n",
       "      <td>female</td>\n",
       "      <td>35</td>\n",
       "      <td>1</td>\n",
       "      <td>0</td>\n",
       "      <td>113803</td>\n",
       "      <td>53.1000</td>\n",
       "      <td>C123</td>\n",
       "      <td>S</td>\n",
       "    </tr>\n",
       "    <tr>\n",
       "      <th>4</th>\n",
       "      <td>5</td>\n",
       "      <td>0</td>\n",
       "      <td>3</td>\n",
       "      <td>Allen, Mr. William Henry</td>\n",
       "      <td>male</td>\n",
       "      <td>35</td>\n",
       "      <td>0</td>\n",
       "      <td>0</td>\n",
       "      <td>373450</td>\n",
       "      <td>8.0500</td>\n",
       "      <td>NaN</td>\n",
       "      <td>S</td>\n",
       "    </tr>\n",
       "  </tbody>\n",
       "</table>\n",
       "</div>"
      ],
      "text/plain": [
       "   PassengerId  Survived  Pclass  \\\n",
       "0            1         0       3   \n",
       "1            2         1       1   \n",
       "2            3         1       3   \n",
       "3            4         1       1   \n",
       "4            5         0       3   \n",
       "\n",
       "                                                Name     Sex  Age  SibSp  \\\n",
       "0                            Braund, Mr. Owen Harris    male   22      1   \n",
       "1  Cumings, Mrs. John Bradley (Florence Briggs Th...  female   38      1   \n",
       "2                             Heikkinen, Miss. Laina  female   26      0   \n",
       "3       Futrelle, Mrs. Jacques Heath (Lily May Peel)  female   35      1   \n",
       "4                           Allen, Mr. William Henry    male   35      0   \n",
       "\n",
       "   Parch            Ticket     Fare Cabin Embarked  \n",
       "0      0         A/5 21171   7.2500   NaN        S  \n",
       "1      0          PC 17599  71.2833   C85        C  \n",
       "2      0  STON/O2. 3101282   7.9250   NaN        S  \n",
       "3      0            113803  53.1000  C123        S  \n",
       "4      0            373450   8.0500   NaN        S  "
      ]
     },
     "execution_count": 176,
     "metadata": {},
     "output_type": "execute_result"
    }
   ],
   "source": [
    "import numpy as np\n",
    "import pandas as pd\n",
    "import pylab as pl\n",
    "import matplotlib.pyplot as plt\n",
    "import seaborn as sns\n",
    "% matplotlib inline\n",
    "\n",
    "data = pd.read_csv('titanic_data.csv') #Load in the dataset\n",
    "\n",
    "print \"The number of passengers in the data set is {}.\".format(len(data))\n",
    "print \"The number of features for each passenger is {}.\".format(len(data.columns))\n",
    "\n",
    "data.head() #Visualize the first 5 rows to see the features"
   ]
  },
  {
   "cell_type": "markdown",
   "metadata": {},
   "source": [
    "From visualizing the first 5 rows of the dataset above, I can see that there are some missing values in the dataset which are showing up as \"NaN\" which means \"Not a Number\". I want to check to see how many missing data values there are and which columns they are in."
   ]
  },
  {
   "cell_type": "code",
   "execution_count": 177,
   "metadata": {
    "collapsed": false
   },
   "outputs": [
    {
     "name": "stdout",
     "output_type": "stream",
     "text": [
      "The number of missing values in each column is:\n"
     ]
    },
    {
     "data": {
      "text/plain": [
       "PassengerId      0\n",
       "Survived         0\n",
       "Pclass           0\n",
       "Name             0\n",
       "Sex              0\n",
       "Age            177\n",
       "SibSp            0\n",
       "Parch            0\n",
       "Ticket           0\n",
       "Fare             0\n",
       "Cabin          687\n",
       "Embarked         2\n",
       "dtype: int64"
      ]
     },
     "execution_count": 177,
     "metadata": {},
     "output_type": "execute_result"
    }
   ],
   "source": [
    "print \"The number of missing values in each column is:\"\n",
    "data.isnull().sum()"
   ]
  },
  {
   "cell_type": "markdown",
   "metadata": {},
   "source": [
    "It seems that most of the missing values are in the column \"Cabin\", with a fair amount in the \"Age\" column as well. Missing values are an unfortunate occurence in many datasets and they make it hard to get a clear picture of the whole dataset. There are several possible ways to deal with missing data, including:\n",
    "* Replacing missing values with the mean or medium value for that feature.\n",
    "* Replacing the value with some other number, for example zero\n",
    "* Removing the entire row or column containing the missing data\n",
    "\n",
    "To deal with the missing data I am going to:\n",
    "* First, delete the column \"Cabin\" because it contains too much missing data to be helpful.\n",
    "* Second, I am going to create a second dataframe called no_na_data which will remove all of the rows containing NaN values, and I will use that in my statistical analysis on the Age column, which is where the majority of the missing values remain."
   ]
  },
  {
   "cell_type": "code",
   "execution_count": 178,
   "metadata": {
    "collapsed": false
   },
   "outputs": [],
   "source": [
    "del data['Cabin']"
   ]
  },
  {
   "cell_type": "code",
   "execution_count": 179,
   "metadata": {
    "collapsed": false
   },
   "outputs": [
    {
     "data": {
      "text/plain": [
       "PassengerId    0\n",
       "Survived       0\n",
       "Pclass         0\n",
       "Name           0\n",
       "Sex            0\n",
       "Age            0\n",
       "SibSp          0\n",
       "Parch          0\n",
       "Ticket         0\n",
       "Fare           0\n",
       "Embarked       0\n",
       "dtype: int64"
      ]
     },
     "execution_count": 179,
     "metadata": {},
     "output_type": "execute_result"
    }
   ],
   "source": [
    "no_na_data = data.dropna(axis=0) # Delete the rows containing missing data\n",
    "no_na_data.isnull().sum() #Check to make sure there are no more NaNs"
   ]
  },
  {
   "cell_type": "markdown",
   "metadata": {},
   "source": [
    "**First I will check to see how many passengers were aboard the ship, and answer the following questions:**\n",
    "\n",
    "* How many passengers survived?\n",
    "\n",
    "* How many passengers died?\n",
    "\n",
    "* What percentage of passengers survived?"
   ]
  },
  {
   "cell_type": "code",
   "execution_count": 180,
   "metadata": {
    "collapsed": false
   },
   "outputs": [
    {
     "name": "stdout",
     "output_type": "stream",
     "text": [
      "The total number of passengers was 891.\n",
      "Number of passengers who Survived: 342.\n",
      "Number of passengers who died: 549.:\n",
      "Percent of passengers who survived: 38.38%.\n"
     ]
    }
   ],
   "source": [
    "print \"The total number of passengers was {}.\".format(len(data['Survived']))\n",
    "\n",
    "print \"Number of passengers who Survived: {}.\".format(len(data[data['Survived']==1]))\n",
    "                                                      \n",
    "print \"Number of passengers who died: {}.:\".format(len(data[data['Survived']==0]))\n",
    "                                                      \n",
    "print \"Percent of passengers who survived: {:.2f}%.\".format((342./891.)*100)"
   ]
  },
  {
   "cell_type": "markdown",
   "metadata": {},
   "source": [
    "**Next I will explore some statistics on the ages of the passengers, and answer the following questions:**\n",
    "   \n",
    "   * What was the age of the youngest passenger?\n",
    "   \n",
    "   * What was the age of the oldest passenger?\n",
    "   \n",
    "   * What was the mean passenger age?\n",
    "   \n",
    "   * What was the median passenger age?\n",
    "   \n",
    "   * What was the standard deviation of ages?"
   ]
  },
  {
   "cell_type": "code",
   "execution_count": 181,
   "metadata": {
    "collapsed": false
   },
   "outputs": [
    {
     "name": "stdout",
     "output_type": "stream",
     "text": [
      "Statistics for Titanic passenger ages:\n",
      "\n",
      "Youngest Passenger: 0.42 years old\n",
      "Oldest Passenger: 80.0 years old\n",
      "Mean age: 29.6420926966\n",
      "Median age 28.0\n",
      "Standard deviation of ages: 14.4827517028\n"
     ]
    }
   ],
   "source": [
    "npAges = np.array(no_na_data['Age'])\n",
    "#Find the youngest passenger\n",
    "minimum_age = np.amin(npAges) \n",
    "\n",
    "#Find the oldest passenger\n",
    "maximum_age = np.amax(npAges)\n",
    "\n",
    "#Find the average passenger age\n",
    "mean_age = np.mean(npAges)\n",
    "\n",
    "#Find the median passenger age\n",
    "median_age = np.median(npAges)\n",
    "\n",
    "# Find the standard deviation of passenger ages\n",
    "std_age = np.std(npAges)\n",
    "\n",
    "# Show the calculated statistics\n",
    "print \"Statistics for Titanic passenger ages:\\n\"\n",
    "print \"Youngest Passenger: {} years old\".format(minimum_age)\n",
    "print \"Oldest Passenger: {} years old\".format(maximum_age)\n",
    "print \"Mean age: {}\".format(mean_age)\n",
    "print \"Median age {}\".format(median_age)\n",
    "print \"Standard deviation of ages: {}\".format(std_age)"
   ]
  },
  {
   "cell_type": "markdown",
   "metadata": {},
   "source": [
    "**Next I am going to print out the entries for the oldest and youngest passenger to see who they were and to check if they survived**"
   ]
  },
  {
   "cell_type": "code",
   "execution_count": 182,
   "metadata": {
    "collapsed": false
   },
   "outputs": [
    {
     "name": "stdout",
     "output_type": "stream",
     "text": [
      "     PassengerId  Survived  Pclass                                  Name  \\\n",
      "630          631         1       1  Barkworth, Mr. Algernon Henry Wilson   \n",
      "\n",
      "      Sex  Age  SibSp  Parch Ticket  Fare Embarked  \n",
      "630  male   80      0      0  27042    30        S  \n",
      "     PassengerId  Survived  Pclass                             Name   Sex  \\\n",
      "803          804         1       3  Thomas, Master. Assad Alexander  male   \n",
      "\n",
      "      Age  SibSp  Parch Ticket    Fare Embarked  \n",
      "803  0.42      0      1   2625  8.5167        C  \n"
     ]
    }
   ],
   "source": [
    "print data[data['Age']==80]\n",
    "\n",
    "print data[data['Age']==0.42]"
   ]
  },
  {
   "cell_type": "markdown",
   "metadata": {},
   "source": [
    "The oldest passenger was Mr. Algernon Henry Wilson Barkworth. He embarked from Southampton with a first class ticket, was traveling alone and he survived.\n",
    "\n",
    "The youngest passenger was Master. Assad Alexander Thomas. He embarked from Cherbourg with a third class ticket, he was traveling with one parent and he also survived.\n",
    "\n",
    "**Next I will show a distribution of the ages of the passengers.**"
   ]
  },
  {
   "cell_type": "code",
   "execution_count": 183,
   "metadata": {
    "collapsed": false
   },
   "outputs": [
    {
     "data": {
      "image/png": "[encoded data removed]",
      "text/plain": [
       "<matplotlib.figure.Figure at 0x11691e8d0>"
      ]
     },
     "metadata": {},
     "output_type": "display_data"
    }
   ],
   "source": [
    "# Visualize the distribution of ages\n",
    "fig, ax = plt.subplots()\n",
    "fig.set_size_inches(9, 6)\n",
    "sns.distplot(no_na_data['Age'], color=\"b\")\n",
    "pl.title('Distribution of Ages', fontsize=16);"
   ]
  },
  {
   "cell_type": "markdown",
   "metadata": {},
   "source": [
    "**Now I will explore some statistics on the fares that the passengers paid**"
   ]
  },
  {
   "cell_type": "code",
   "execution_count": 184,
   "metadata": {
    "collapsed": false
   },
   "outputs": [
    {
     "name": "stdout",
     "output_type": "stream",
     "text": [
      "Statistics for Titanic passenger fares:\n",
      "\n",
      "Cheapest ticket fare: 4.0125\n",
      "Most expensive ticket fare: 512.3292\n",
      "Mean fare: 34.9104723404\n",
      "Median fare 15.85\n",
      "Standard deviation of fares: 53.0506317909\n"
     ]
    }
   ],
   "source": [
    "npFares = np.array(no_na_data['Fare'])\n",
    "#Find the cheapers ticket fare\n",
    "minimum_fare= np.amin(npFares[npFares != 0]) \n",
    "\n",
    "#Find the most expensive ticket fare\n",
    "maximum_fare = np.amax(npFares)\n",
    "\n",
    "#Find the average fare\n",
    "mean_fare = np.mean(npFares[npFares != 0])\n",
    "\n",
    "#Find the median fare\n",
    "median_fare = np.median(npFares[npFares != 0])\n",
    "\n",
    "# Find the standard deviation of fares\n",
    "std_fare = np.std(npFares[npFares != 0])\n",
    "\n",
    "# Show the calculated statistics\n",
    "print \"Statistics for Titanic passenger fares:\\n\"\n",
    "print \"Cheapest ticket fare: {}\".format(minimum_fare)\n",
    "print \"Most expensive ticket fare: {}\".format(maximum_fare)\n",
    "print \"Mean fare: {}\".format(mean_fare)\n",
    "print \"Median fare {}\".format(median_fare)\n",
    "print \"Standard deviation of fares: {}\".format(std_fare)"
   ]
  },
  {
   "cell_type": "markdown",
   "metadata": {},
   "source": [
    "**The statistics for the fares tell us a couple of interesting things:**\n",
    "* The most expensive ticket was more than a hundred times more expensive than the cheapest ticket\n",
    "* The mean fare is more than double the median fare, which means the outliers are pulling the mean up\n",
    "* The relatively large standard deviation means that there was a fair amount of variance in the prices\n",
    "\n",
    "**Next I will visualize the distribution of fares**\n",
    "\n",
    "(Since the mean fare is greater than the median fare, I am expecting to see a distribution that is skewed to the right.)"
   ]
  },
  {
   "cell_type": "code",
   "execution_count": 185,
   "metadata": {
    "collapsed": false
   },
   "outputs": [
    {
     "data": {
      "image/png": "[encoded data removed]",
      "text/plain": [
       "<matplotlib.figure.Figure at 0x1165af390>"
      ]
     },
     "metadata": {},
     "output_type": "display_data"
    }
   ],
   "source": [
    "fig, ax = plt.subplots()\n",
    "fig.set_size_inches(9, 6)\n",
    "sns.distplot(no_na_data['Fare'], color=\"b\")\n",
    "pl.title('Distribution of fares', fontsize=16);"
   ]
  },
  {
   "cell_type": "markdown",
   "metadata": {},
   "source": [
    "It is interesting to note that the majority of the fares were less than 25 and there are some extreme outliers which have skewed the distribution to the right.\n",
    "\n",
    "**Next I will visualize the distribution of classes.**"
   ]
  },
  {
   "cell_type": "code",
   "execution_count": 186,
   "metadata": {
    "collapsed": false
   },
   "outputs": [
    {
     "data": {
      "image/png": "[encoded data removed]",
      "text/plain": [
       "<matplotlib.figure.Figure at 0x11612f6d0>"
      ]
     },
     "metadata": {},
     "output_type": "display_data"
    }
   ],
   "source": [
    "sns.countplot(data['Pclass'])\n",
    "pl.title('Distribution of Classes', fontsize=14);"
   ]
  },
  {
   "cell_type": "markdown",
   "metadata": {},
   "source": [
    "The distribution of classes shows that the majority of passengers were class 3 passengers and there were just slightly more first class than second class.\n",
    "\n",
    "**Next I will product a plot which shows the number of survivors and non-survivors from each class.**"
   ]
  },
  {
   "cell_type": "code",
   "execution_count": 187,
   "metadata": {
    "collapsed": false
   },
   "outputs": [
    {
     "data": {
      "image/png": "[encoded data removed]",
      "text/plain": [
       "<matplotlib.figure.Figure at 0x1164b2490>"
      ]
     },
     "metadata": {},
     "output_type": "display_data"
    }
   ],
   "source": [
    "fig, ax = plt.subplots()\n",
    "fig.set_size_inches(9, 6)\n",
    "sns.countplot(data[\"Pclass\"], hue=data['Survived']);\n",
    "pl.title('Number of survivors and non-survivors from each class', fontsize=16);\n",
    "plt.show()"
   ]
  },
  {
   "cell_type": "markdown",
   "metadata": {},
   "source": [
    "**There are several interesting observations to be made from the above plot:**\n",
    "* The first class was the only class which had more survivors than non-survivors.\n",
    "* In second class there were nearly the same number of survivors as non-survivors.\n",
    "* Third class had roughly three times more non-survivors than survivors.\n",
    "\n",
    "This discovery begs the question, why was the survival rate so much higher for the first class passengers? Of course I can only speculate, but here are a couple of possible reasons:\n",
    "* The first class passengers were probably wealthier individuals, maybe an effort was made to save the wealthy.\n",
    "* It is possible that the locations of the first class cabins were positioned advanageously on the ship, making it easier for them to reach the deck and get to the life boats more quickly.\n",
    "\n",
    "Whatever the reason, it is obvious that the passengers in first and second class were rescued at a much higher rate than the third class passengers."
   ]
  },
  {
   "cell_type": "markdown",
   "metadata": {},
   "source": [
    "**Now I will run a similar analysis of the Sex feature and see what the rate of survival was for each gender**"
   ]
  },
  {
   "cell_type": "code",
   "execution_count": 188,
   "metadata": {
    "collapsed": false
   },
   "outputs": [
    {
     "data": {
      "image/png": "[encoded data removed]",
      "text/plain": [
       "<matplotlib.figure.Figure at 0x115fb7c50>"
      ]
     },
     "metadata": {},
     "output_type": "display_data"
    },
    {
     "name": "stdout",
     "output_type": "stream",
     "text": [
      "The total number of male passengers was 577 and 18.89% of them survived\n",
      "The total number of female passengers was 314 and 74.20% of them survived\n"
     ]
    }
   ],
   "source": [
    "gender_survival = []\n",
    "gender_survival.append(len(data[data['Sex']=='male'][data['Survived']==1]))\n",
    "gender_survival.append(len(data[data['Sex']=='male'][data['Survived']==0]))\n",
    "gender_survival.append(len(data[data['Sex']=='female'][data['Survived']==1]))\n",
    "gender_survival.append(len(data[data['Sex']=='female'][data['Survived']==0]))\n",
    "fig, ax = plt.subplots()\n",
    "fig.set_size_inches(9, 6)\n",
    "sns.countplot(data[\"Sex\"], hue=data['Survived']);\n",
    "pl.title('Number of survivors and non-survivors from each gender', fontsize=16);\n",
    "plt.show()\n",
    "print \"The total number of male passengers was {} and {:.2f}% of them survived\".format(sum(gender_survival[0:2]),((gender_survival[0]*1.0)/sum(gender_survival[0:2])*100))\n",
    "print \"The total number of female passengers was {} and {:.2f}% of them survived\".format(sum(gender_survival[2:4]),((gender_survival[2]*1.0)/sum(gender_survival[2:4])*100))"
   ]
  },
  {
   "cell_type": "markdown",
   "metadata": {},
   "source": [
    "**Observations from the survival rates by gender**\n",
    "* Almost two-thirds of the total passengers were male, and of them, only 18.89% survived.\n",
    "* Even though there was significantly fewer female than male passengers, 74.2% of them survived, and there were more than twice as many female survivors as male surivors.\n",
    "* There must have been a deliberate effort to save women first."
   ]
  },
  {
   "cell_type": "markdown",
   "metadata": {},
   "source": [
    "**In the next step I am going to do some bivariate analysis of the dataset. Because some of the variables are categorical I am going to need to create some new columns with numerical values to represent the different categories**\n",
    "\n",
    "* First I am going to get rid of the Sex column and replace it with Male and Female columns.\n",
    "\n",
    "* Then I am going to get rid of the Embarked column and replace it with a column for each of the three locations (C, Q and S).\n",
    "\n",
    "* Finally I am going to delete the columns Name, Ticket and PassengerId because they don't tell us any interesting information about the individual passengers and will not be useful in the analysis."
   ]
  },
  {
   "cell_type": "code",
   "execution_count": 189,
   "metadata": {
    "collapsed": false
   },
   "outputs": [
    {
     "data": {
      "text/html": [
       "<div>\n",
       "<table border=\"1\" class=\"dataframe\">\n",
       "  <thead>\n",
       "    <tr style=\"text-align: right;\">\n",
       "      <th></th>\n",
       "      <th>Survived</th>\n",
       "      <th>Pclass</th>\n",
       "      <th>Age</th>\n",
       "      <th>SibSp</th>\n",
       "      <th>Parch</th>\n",
       "      <th>Fare</th>\n",
       "      <th>female</th>\n",
       "      <th>male</th>\n",
       "      <th>C</th>\n",
       "      <th>Q</th>\n",
       "      <th>S</th>\n",
       "    </tr>\n",
       "  </thead>\n",
       "  <tbody>\n",
       "    <tr>\n",
       "      <th>0</th>\n",
       "      <td>0</td>\n",
       "      <td>3</td>\n",
       "      <td>22</td>\n",
       "      <td>1</td>\n",
       "      <td>0</td>\n",
       "      <td>7.2500</td>\n",
       "      <td>0</td>\n",
       "      <td>1</td>\n",
       "      <td>0</td>\n",
       "      <td>0</td>\n",
       "      <td>1</td>\n",
       "    </tr>\n",
       "    <tr>\n",
       "      <th>1</th>\n",
       "      <td>1</td>\n",
       "      <td>1</td>\n",
       "      <td>38</td>\n",
       "      <td>1</td>\n",
       "      <td>0</td>\n",
       "      <td>71.2833</td>\n",
       "      <td>1</td>\n",
       "      <td>0</td>\n",
       "      <td>1</td>\n",
       "      <td>0</td>\n",
       "      <td>0</td>\n",
       "    </tr>\n",
       "    <tr>\n",
       "      <th>2</th>\n",
       "      <td>1</td>\n",
       "      <td>3</td>\n",
       "      <td>26</td>\n",
       "      <td>0</td>\n",
       "      <td>0</td>\n",
       "      <td>7.9250</td>\n",
       "      <td>1</td>\n",
       "      <td>0</td>\n",
       "      <td>0</td>\n",
       "      <td>0</td>\n",
       "      <td>1</td>\n",
       "    </tr>\n",
       "    <tr>\n",
       "      <th>3</th>\n",
       "      <td>1</td>\n",
       "      <td>1</td>\n",
       "      <td>35</td>\n",
       "      <td>1</td>\n",
       "      <td>0</td>\n",
       "      <td>53.1000</td>\n",
       "      <td>1</td>\n",
       "      <td>0</td>\n",
       "      <td>0</td>\n",
       "      <td>0</td>\n",
       "      <td>1</td>\n",
       "    </tr>\n",
       "    <tr>\n",
       "      <th>4</th>\n",
       "      <td>0</td>\n",
       "      <td>3</td>\n",
       "      <td>35</td>\n",
       "      <td>0</td>\n",
       "      <td>0</td>\n",
       "      <td>8.0500</td>\n",
       "      <td>0</td>\n",
       "      <td>1</td>\n",
       "      <td>0</td>\n",
       "      <td>0</td>\n",
       "      <td>1</td>\n",
       "    </tr>\n",
       "  </tbody>\n",
       "</table>\n",
       "</div>"
      ],
      "text/plain": [
       "   Survived  Pclass  Age  SibSp  Parch     Fare  female  male  C  Q  S\n",
       "0         0       3   22      1      0   7.2500       0     1  0  0  1\n",
       "1         1       1   38      1      0  71.2833       1     0  1  0  0\n",
       "2         1       3   26      0      0   7.9250       1     0  0  0  1\n",
       "3         1       1   35      1      0  53.1000       1     0  0  0  1\n",
       "4         0       3   35      0      0   8.0500       0     1  0  0  1"
      ]
     },
     "execution_count": 189,
     "metadata": {},
     "output_type": "execute_result"
    }
   ],
   "source": [
    "data = pd.concat([data, pd.get_dummies(data['Sex'])], axis=1)\n",
    "data = pd.concat([data, pd.get_dummies(data['Embarked'])], axis=1)\n",
    "del data['Sex']\n",
    "del data['Name']\n",
    "del data['Ticket']\n",
    "del data['PassengerId']\n",
    "del data['Embarked']\n",
    "data.head()\n"
   ]
  },
  {
   "cell_type": "markdown",
   "metadata": {},
   "source": [
    "* The SibSp variable and the Parch variable basically tell us the same thing, whether the passenger is traveling alone or with family. Therefore, I am going to combine the two columns into a new column called Family which will contain the total number from each of the two columns."
   ]
  },
  {
   "cell_type": "code",
   "execution_count": 190,
   "metadata": {
    "collapsed": false
   },
   "outputs": [
    {
     "data": {
      "text/html": [
       "<div>\n",
       "<table border=\"1\" class=\"dataframe\">\n",
       "  <thead>\n",
       "    <tr style=\"text-align: right;\">\n",
       "      <th></th>\n",
       "      <th>Survived</th>\n",
       "      <th>Pclass</th>\n",
       "      <th>Age</th>\n",
       "      <th>Fare</th>\n",
       "      <th>female</th>\n",
       "      <th>male</th>\n",
       "      <th>C</th>\n",
       "      <th>Q</th>\n",
       "      <th>S</th>\n",
       "      <th>Family</th>\n",
       "    </tr>\n",
       "  </thead>\n",
       "  <tbody>\n",
       "    <tr>\n",
       "      <th>0</th>\n",
       "      <td>0</td>\n",
       "      <td>3</td>\n",
       "      <td>22</td>\n",
       "      <td>7.2500</td>\n",
       "      <td>0</td>\n",
       "      <td>1</td>\n",
       "      <td>0</td>\n",
       "      <td>0</td>\n",
       "      <td>1</td>\n",
       "      <td>1</td>\n",
       "    </tr>\n",
       "    <tr>\n",
       "      <th>1</th>\n",
       "      <td>1</td>\n",
       "      <td>1</td>\n",
       "      <td>38</td>\n",
       "      <td>71.2833</td>\n",
       "      <td>1</td>\n",
       "      <td>0</td>\n",
       "      <td>1</td>\n",
       "      <td>0</td>\n",
       "      <td>0</td>\n",
       "      <td>1</td>\n",
       "    </tr>\n",
       "    <tr>\n",
       "      <th>2</th>\n",
       "      <td>1</td>\n",
       "      <td>3</td>\n",
       "      <td>26</td>\n",
       "      <td>7.9250</td>\n",
       "      <td>1</td>\n",
       "      <td>0</td>\n",
       "      <td>0</td>\n",
       "      <td>0</td>\n",
       "      <td>1</td>\n",
       "      <td>0</td>\n",
       "    </tr>\n",
       "    <tr>\n",
       "      <th>3</th>\n",
       "      <td>1</td>\n",
       "      <td>1</td>\n",
       "      <td>35</td>\n",
       "      <td>53.1000</td>\n",
       "      <td>1</td>\n",
       "      <td>0</td>\n",
       "      <td>0</td>\n",
       "      <td>0</td>\n",
       "      <td>1</td>\n",
       "      <td>1</td>\n",
       "    </tr>\n",
       "    <tr>\n",
       "      <th>4</th>\n",
       "      <td>0</td>\n",
       "      <td>3</td>\n",
       "      <td>35</td>\n",
       "      <td>8.0500</td>\n",
       "      <td>0</td>\n",
       "      <td>1</td>\n",
       "      <td>0</td>\n",
       "      <td>0</td>\n",
       "      <td>1</td>\n",
       "      <td>0</td>\n",
       "    </tr>\n",
       "  </tbody>\n",
       "</table>\n",
       "</div>"
      ],
      "text/plain": [
       "   Survived  Pclass  Age     Fare  female  male  C  Q  S  Family\n",
       "0         0       3   22   7.2500       0     1  0  0  1       1\n",
       "1         1       1   38  71.2833       1     0  1  0  0       1\n",
       "2         1       3   26   7.9250       1     0  0  0  1       0\n",
       "3         1       1   35  53.1000       1     0  0  0  1       1\n",
       "4         0       3   35   8.0500       0     1  0  0  1       0"
      ]
     },
     "execution_count": 190,
     "metadata": {},
     "output_type": "execute_result"
    }
   ],
   "source": [
    "data['Family'] = data['SibSp']+data['Parch']\n",
    "del data['SibSp']\n",
    "del data['Parch']\n",
    "data.head()"
   ]
  },
  {
   "cell_type": "markdown",
   "metadata": {},
   "source": [
    "**Next I am going to visualize a correlation matrix of the passenger features and explore the following questions:**\n",
    "* Which variables are highly correlated with each other?\n",
    "* Which variables have a positive correlation with survival?\n",
    "* Which variables have a negative correlation with survival?"
   ]
  },
  {
   "cell_type": "code",
   "execution_count": 191,
   "metadata": {
    "collapsed": false
   },
   "outputs": [
    {
     "data": {
      "image/png": "[encoded data removed]",
      "text/plain": [
       "<matplotlib.figure.Figure at 0x1158f1450>"
      ]
     },
     "metadata": {},
     "output_type": "display_data"
    }
   ],
   "source": [
    "fig, ax = plt.subplots()\n",
    "fig.set_size_inches(9, 6)\n",
    "corrplot = data.corr()\n",
    "sns.heatmap(corrplot, annot=True);\n",
    "pl.title('Correlations between each feature', fontsize=16);\n",
    "plt.show()"
   ]
  },
  {
   "cell_type": "markdown",
   "metadata": {},
   "source": [
    "Looking at the above matrix of correlations, it is interesting to note that the variable which had the highest correlation with survival was gender. More specifically, females had a high positive correlation with survival while males had a negative correlation with survival. This is probably due to the fact that, with the limited life boats, an attempt was made to save women and children first, so more men were still on the ship when it sank.\n",
    "\n",
    "The variable Pclass had substantial negative correlations with age, fare and survival. It makes sense that the Pclass variable would have a negative correlation with Fare because first class tickets would cost more. I am also going to make the conclusion that older people purchased more first class tickets because they had more money and could afford them. As to the correlation with Pclass and Survival, I can only guess that either an attempt was made to save the first class passengers first, or the locations of the first class rooms were advantageous to survival, and that these people had an easier time getting from their rooms to the lifeboats.\n",
    "\n",
    "Some additional observations are that, those who embarked from C (Cherbourg) had the highest chance of survival while those who embarked from S (Southampton) had the lowest chance of survival.\n",
    "\n",
    "The two variables Age and Family had almost no correlation with survival."
   ]
  },
  {
   "cell_type": "markdown",
   "metadata": {},
   "source": [
    "Since the two variables which had the strongest correlation with survival were gender and Pclass. I am curious to see how many passengers fell in to the category of being both Female and First Class passengers, and what was there rate of survival?"
   ]
  },
  {
   "cell_type": "code",
   "execution_count": 192,
   "metadata": {
    "collapsed": false
   },
   "outputs": [
    {
     "name": "stdout",
     "output_type": "stream",
     "text": [
      "The number of First Class, Female Passengers who survived was 91.\n",
      "The number of First Class, Female Passengers who died was 3.\n"
     ]
    }
   ],
   "source": [
    "print \"The number of First Class, Female Passengers who survived was {}.\".format(\n",
    "    len(data[data['female']==1][data['Pclass']==1][data['Survived']==1]))\n",
    "print \"The number of First Class, Female Passengers who died was {}.\".format(\n",
    "    len(data[data['female']==1][data['Pclass']==1][data['Survived']==0]))"
   ]
  },
  {
   "cell_type": "markdown",
   "metadata": {},
   "source": [
    "Not surprisingly, nearly all of the First Class, Female passengers survived. Out of 94 such passengers, only 3 of them did not survive. This clearly shows which demographic of passenger was given priority when they were deciding who to save."
   ]
  },
  {
   "cell_type": "markdown",
   "metadata": {},
   "source": [
    "Conclusion\n",
    "----------\n",
    "Due to the nature of the data set, with the large number of missing values and its limited number of features, it is difficult to draw any hard conclusions. Still there are many interesting observations which can be drawn such as:\n",
    "* The percent of passengers who survived, which was 38.38%.\n",
    "* The average age of the passengers was less than 30 years old.\n",
    "* The oldest passenger was 80 years old while average life expectency at that time was around 50.\n",
    "* The youngest passenger was less than half a year old.\n",
    "* Both the youngest and oldest passengers survived.\n",
    "* The average ticket cost was 15 (I am assuming British Pounds). Factoring in inflation, 15 Pounds in 1912 is equal to about 1500 Pounds today.\n",
    "* The demographic which had the highest rate of survival was First Class, Female passengers, of whom, nearly 97% survived.\n",
    "\n",
    "Further analysis could include implementation of a machine learning algorithm to see if it is possible to design a model to predict the survival outcomes for each passenger based on their individual features, but that is beyond the scope of this project."
   ]
  },
  {
   "cell_type": "code",
   "execution_count": null,
   "metadata": {
    "collapsed": true
   },
   "outputs": [],
   "source": []
  }
 ],
 "metadata": {
  "kernelspec": {
   "display_name": "Python 2",
   "language": "python",
   "name": "python2"
  },
  "language_info": {
   "codemirror_mode": {
    "name": "ipython",
    "version": 2
   },
   "file_extension": ".py",
   "mimetype": "text/x-python",
   "name": "python",
   "nbconvert_exporter": "python",
   "pygments_lexer": "ipython2",
   "version": "2.7.12"
  }
 },
 "nbformat": 4,
 "nbformat_minor": 0
}
